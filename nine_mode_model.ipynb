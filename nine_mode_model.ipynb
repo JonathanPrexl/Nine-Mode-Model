{
 "cells": [
  {
   "cell_type": "code",
   "execution_count": 49,
   "metadata": {},
   "outputs": [],
   "source": [
    "from IPython.display import display\n",
    "\n",
    "\n",
    "from sympy import symbols, Matrix, integrate\n",
    "from sympy import sin, cos, sqrt, pi\n",
    "from sympy.vector import gradient\n"
   ]
  },
  {
   "cell_type": "code",
   "execution_count": 38,
   "metadata": {},
   "outputs": [],
   "source": [
    "x, y, z = symbols('x y z')\n",
    "a, b, g = symbols(r'\\alpha \\beta \\gamma')"
   ]
  },
  {
   "cell_type": "code",
   "execution_count": 36,
   "metadata": {},
   "outputs": [
    {
     "data": {
      "text/latex": [
       "$\\displaystyle \\alpha$"
      ],
      "text/plain": [
       "\\alpha"
      ]
     },
     "execution_count": 36,
     "metadata": {},
     "output_type": "execute_result"
    }
   ],
   "source": [
    "a"
   ]
  },
  {
   "cell_type": "code",
   "execution_count": null,
   "metadata": {},
   "outputs": [],
   "source": []
  },
  {
   "cell_type": "code",
   "execution_count": 44,
   "metadata": {},
   "outputs": [
    {
     "data": {
      "text/latex": [
       "$\\displaystyle \\left[\\begin{matrix}\\sqrt{2} \\sin{\\left(\\frac{\\pi y}{2} \\right)} & 0 & 0\\end{matrix}\\right]$"
      ],
      "text/plain": [
       "Matrix([[sqrt(2)*sin(pi*y/2), 0, 0]])"
      ]
     },
     "metadata": {},
     "output_type": "display_data"
    },
    {
     "data": {
      "text/latex": [
       "$\\displaystyle \\left[\\begin{matrix}\\frac{4 \\sqrt{3} \\cos^{2}{\\left(\\frac{\\pi y}{2} \\right)} \\cos{\\left(\\gamma y \\right)}}{3} & 0 & 0\\end{matrix}\\right]$"
      ],
      "text/plain": [
       "Matrix([[4*sqrt(3)*cos(pi*y/2)**2*cos(\\gamma*y)/3, 0, 0]])"
      ]
     },
     "metadata": {},
     "output_type": "display_data"
    },
    {
     "data": {
      "text/latex": [
       "$\\displaystyle \\left[\\begin{matrix}\\sqrt{2} \\sin{\\left(\\frac{\\pi y}{2} \\right)} & 0 & 0\\end{matrix}\\right]$"
      ],
      "text/plain": [
       "Matrix([[sqrt(2)*sin(pi*y/2), 0, 0]])"
      ]
     },
     "metadata": {},
     "output_type": "display_data"
    }
   ],
   "source": [
    "u1 = Matrix([[sqrt(2)*sin(pi * y/2),0,0]])\n",
    "u2 = Matrix([[4/sqrt(3)*cos(pi * y/2)**2 * cos(g*y),0,0]])\n",
    "u3 = Matrix([[sqrt(2)*sin(pi * y/2),0,0]])\n",
    "\n",
    "\n",
    "for u in [u1,u2,u3]:\n",
    "    display(u)"
   ]
  },
  {
   "cell_type": "code",
   "execution_count": 55,
   "metadata": {},
   "outputs": [
    {
     "data": {
      "text/latex": [
       "$\\displaystyle \\left[\\begin{matrix}\\frac{\\sqrt{2} \\pi \\cos{\\left(\\frac{\\pi y}{2} \\right)}}{2} & 0 & 0\\end{matrix}\\right]$"
      ],
      "text/plain": [
       "Matrix([[sqrt(2)*pi*cos(pi*y/2)/2, 0, 0]])"
      ]
     },
     "execution_count": 55,
     "metadata": {},
     "output_type": "execute_result"
    }
   ],
   "source": [
    "u1.diff(y)"
   ]
  },
  {
   "cell_type": "code",
   "execution_count": null,
   "metadata": {},
   "outputs": [],
   "source": [
    "def "
   ]
  }
 ],
 "metadata": {
  "kernelspec": {
   "display_name": "Python 3",
   "language": "python",
   "name": "python3"
  },
  "language_info": {
   "codemirror_mode": {
    "name": "ipython",
    "version": 3
   },
   "file_extension": ".py",
   "mimetype": "text/x-python",
   "name": "python",
   "nbconvert_exporter": "python",
   "pygments_lexer": "ipython3",
   "version": "3.6.10"
  }
 },
 "nbformat": 4,
 "nbformat_minor": 4
}
