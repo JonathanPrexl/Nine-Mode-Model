{
 "cells": [
  {
   "cell_type": "markdown",
   "metadata": {},
   "source": [
    "# Description:\n",
    "\n",
    "This notebook is calulating the ODE for the nine mode model created by Eckhardt et. al.:\n",
    "\n",
    "**A low-dimensional model for turbulent shear flows**  \n",
    "https://iopscience.iop.org/article/10.1088/1367-2630/6/1/056\n",
    "\n",
    "The evaluation of the accuring integrals that are optained by an galerkin projection are symbolically solved with the use of the **sympy** package."
   ]
  },
  {
   "cell_type": "code",
   "execution_count": 2,
   "metadata": {},
   "outputs": [],
   "source": [
    "from IPython.display import display\n",
    "\n",
    "import re\n",
    "import glob\n",
    "import matplotlib.pyplot as plt\n",
    "import numpy as np\n",
    "import pandas as pd\n",
    "import os\n",
    "import itertools\n",
    "import pickle\n",
    "from tqdm.notebook import tqdm\n",
    "from multiprocessing import Pool\n",
    "\n",
    "\n",
    "import sympy\n",
    "from sympy import N\n",
    "from sympy import Function\n",
    "from sympy import integrate\n",
    "from sympy import simplify, trigsimp\n",
    "from sympy import symbols, Symbol, Matrix, integrate\n",
    "from sympy import sin, cos, sqrt, pi\n",
    "from sympy.vector import gradient\n",
    "from sympy.utilities.lambdify import lambdify\n",
    "\n",
    "\n",
    "# you can remove that line if you sure\n",
    "# another sympy version has no\n",
    "# relevant changes in syntax\n",
    "assert sympy.__version__ == '1.5.1'"
   ]
  },
  {
   "cell_type": "markdown",
   "metadata": {},
   "source": [
    "## Set up folderstucture"
   ]
  },
  {
   "cell_type": "code",
   "execution_count": 3,
   "metadata": {},
   "outputs": [],
   "source": [
    "for p in [\"expressions/I1\",\"expressions/I2\",\"expressions/I3\"]:\n",
    "    if not os.path.isdir(p):\n",
    "        os.makedirs(p)"
   ]
  },
  {
   "cell_type": "markdown",
   "metadata": {},
   "source": [
    "## Define variables and constants"
   ]
  },
  {
   "cell_type": "code",
   "execution_count": 4,
   "metadata": {},
   "outputs": [],
   "source": [
    "x, y, z = symbols('x y z')\n",
    "\n",
    "a = Symbol(r'\\alpha', nonzero=True,finite=True)\n",
    "b = Symbol(r'\\beta', nonzero=True,finite=True)\n",
    "g = Symbol(r'\\gamma', nonzero=True,finite=True)\n",
    "\n",
    "Re = Symbol(\"Re\")"
   ]
  },
  {
   "cell_type": "markdown",
   "metadata": {},
   "source": [
    "# Navier Stokes solver\n",
    "\n",
    "We are going to devide the calculation into three steps and solving the expressions I1, I2 and I3 seperatly (Compare to eq. 20 in the puplication):\n",
    "\n",
    "\\begin{equation}\n",
    "\\begin{split}\n",
    "\\left(\n",
    "\\frac{8\\pi^2}{\\alpha \\gamma}\n",
    "\\right)\n",
    "\\underbrace{\\dot{a}_m}_{123}\n",
    "=\n",
    "-\\sum_{m,l} a_m a_l  \\int_\\Omega \\underbrace{\\left[ (\\boldsymbol{u}_m \\cdot \\nabla)\\boldsymbol{u}_l\\right] \\cdot \\boldsymbol{u}_n}_{\\text{I1}} \\text{ }d^3\\boldsymbol{x}\\\\\n",
    "+ \\frac{1}{Re}\\sum_{m} a_m  \\int_\\Omega \\underbrace{(\\nabla^2 \\boldsymbol{u}_m) \\cdot \\boldsymbol{u}_n}_{\\text{I2}} \\text{ }d^3\\boldsymbol{x}\\\\\n",
    "+ \\int_\\Omega \\underbrace{\\boldsymbol{F} \\cdot \\boldsymbol{u}_n}_{\\text{I3}} \\text{ }d^3\\boldsymbol{x}\n",
    "\\end{split}\n",
    "\\end{equation}\n",
    "\n",
    "here the expanded calculation for the parts are defined:"
   ]
  },
  {
   "cell_type": "code",
   "execution_count": 5,
   "metadata": {},
   "outputs": [],
   "source": [
    "def calc_I1(um, ul, un):\n",
    "    \n",
    "    dx_ulx = ul[0].diff(x)\n",
    "    dy_ulx = ul[0].diff(y)\n",
    "    dz_ulx = ul[0].diff(z)\n",
    "    \n",
    "    dx_uly = ul[1].diff(x)\n",
    "    dy_uly = ul[1].diff(y)\n",
    "    dz_uly = ul[1].diff(z)\n",
    "    \n",
    "    dx_ulz = ul[2].diff(x)\n",
    "    dy_ulz = ul[2].diff(y)\n",
    "    dz_ulz = ul[2].diff(z)\n",
    "    \n",
    "    temp_vector = Matrix([\n",
    "                         [um[0] * dx_ulx + um[1] * dy_ulx + um[2] * dz_ulx],\n",
    "                         [um[0] * dx_uly + um[1] * dy_uly + um[2] * dz_uly],\n",
    "                         [um[0] * dx_ulz + um[1] * dy_ulz + um[2] * dz_ulz]\n",
    "                         ])\n",
    "    \n",
    "    return temp_vector.dot(un)\n",
    "\n",
    "\n",
    "def calc_I2(um, un):\n",
    "    \n",
    "    \n",
    "    d2x_ulx = um[0].diff(x,2)\n",
    "    d2y_ulx = um[0].diff(y,2)\n",
    "    d2z_ulx = um[0].diff(z,2)\n",
    "    \n",
    "    d2x_uly = um[1].diff(x,2)\n",
    "    d2y_uly = um[1].diff(y,2)\n",
    "    d2z_uly = um[1].diff(z,2)\n",
    "    \n",
    "    d2x_ulz = um[2].diff(x,2)\n",
    "    d2y_ulz = um[2].diff(y,2)\n",
    "    d2z_ulz = um[2].diff(z,2)\n",
    "    \n",
    "    \n",
    "    temp_vector = Matrix([\n",
    "                         [d2x_ulx + d2y_ulx + d2z_ulx],\n",
    "                         [d2x_uly + d2y_uly + d2z_uly],\n",
    "                         [d2x_ulz + d2y_ulz + d2z_ulz],\n",
    "                         ])\n",
    "\n",
    "    return temp_vector.dot(un)\n",
    "\n",
    "\n",
    "def calc_I3(un, force):\n",
    "    return force.dot(un)\n",
    "\n",
    "\n",
    "def integrate_over_volumne(exp):\n",
    "    return integrate(exp,(x, 0, 2*pi/a),(y, -1, 1),(z, 0, 2*pi/g))"
   ]
  },
  {
   "cell_type": "markdown",
   "metadata": {},
   "source": [
    "# Define the nine modes and the driving force"
   ]
  },
  {
   "cell_type": "code",
   "execution_count": 6,
   "metadata": {},
   "outputs": [
    {
     "data": {
      "text/latex": [
       "$\\displaystyle \\left[\\begin{matrix}\\frac{\\sqrt{2} \\pi^{2} \\sin{\\left(\\frac{\\pi y}{2} \\right)}}{4 Re}\\\\0\\\\0\\end{matrix}\\right]$"
      ],
      "text/plain": [
       "Matrix([\n",
       "[sqrt(2)*pi**2*sin(pi*y/2)/(4*Re)],\n",
       "[                               0],\n",
       "[                               0]])"
      ]
     },
     "execution_count": 6,
     "metadata": {},
     "output_type": "execute_result"
    }
   ],
   "source": [
    "force = Matrix([\n",
    "               [sqrt(2)*pi**2/(4*Re)*sin(pi*y/2)],\n",
    "               [0],\n",
    "               [0]\n",
    "               ])\n",
    "force"
   ]
  },
  {
   "cell_type": "code",
   "execution_count": 7,
   "metadata": {},
   "outputs": [],
   "source": [
    "u1 = Matrix([\n",
    "            [sqrt(2)*sin(pi * y/2)],\n",
    "            [0],\n",
    "            [0]\n",
    "            ])\n",
    "\n",
    "u2 = Matrix([\n",
    "            [4/sqrt(3)*cos(pi * y/2)**2 * cos(g*z)],\n",
    "            [0],\n",
    "            [0]\n",
    "            ])\n",
    "\n",
    "u3 = Matrix([\n",
    "            [0],\n",
    "            [2*g*cos(pi*y/2)*cos(g*z)],\n",
    "            [pi*sin(pi*y/2)*sin(g*z)]\n",
    "            ])\n",
    "\n",
    "u3 *= 2/sqrt(4*g**2 + pi**2)\n",
    "\n",
    "u4 = Matrix([\n",
    "            [0],\n",
    "            [0],\n",
    "            [4/sqrt(3)*cos(a*x)*cos(pi*y/2)**2]\n",
    "            ])\n",
    "\n",
    "\n",
    "u5 = Matrix([\n",
    "            [0],\n",
    "            [0],\n",
    "            [2*sin(a*x)*sin(pi*y/2)]\n",
    "            ])\n",
    "\n",
    "u6 = Matrix([\n",
    "            [-g*cos(a*x)* cos(pi*y/2)**2 * sin(g*z)],\n",
    "            [0],\n",
    "            [a*sin(a*x)*cos(pi*y/2)**2*cos(g*z)]\n",
    "            ])\n",
    "\n",
    "u6 *= 4*sqrt(2)/sqrt(3*(a**2+g**2))\n",
    "\n",
    "u7 = Matrix([\n",
    "            [g*sin(a*x)*sin(pi*y/2)*sin(g*z)],\n",
    "            [0],\n",
    "            [a*cos(a*x)*sin(pi*y/2)*cos(g*z)]\n",
    "            ])\n",
    "\n",
    "u7 *= 2*sqrt(2)/sqrt(a**2+g**2)\n",
    "\n",
    "u8 = Matrix([\n",
    "            [pi*a*sin(a*x)*sin(pi*y/2)*sin(g*z)],\n",
    "            [2*(a**2+g**2)*cos(a*x)*cos(pi*y/2)*sin(g*z)],\n",
    "            [-pi*g*cos(a*x)*sin(pi*y/2)*cos(g*z)]\n",
    "            ])\n",
    "\n",
    "u8 *= 2*sqrt(2)/sqrt((a**2+g**2)*(4*a**2+4*g**2+pi**2))\n",
    "\n",
    "u9 = Matrix([\n",
    "            [sqrt(2)*sin(3*pi*y/2)],\n",
    "            [0],\n",
    "            [0]\n",
    "            ])\n",
    "\n",
    "list_of_u = [u1,u2,u3,u4,u5,u6,u7,u8,u9]"
   ]
  },
  {
   "cell_type": "markdown",
   "metadata": {},
   "source": [
    "## Check if the modes are divergenz free"
   ]
  },
  {
   "cell_type": "code",
   "execution_count": 8,
   "metadata": {},
   "outputs": [],
   "source": [
    "def divergence(f, x):\n",
    "    return sum(fi.diff(xi) for fi, xi in zip(f, x))\n",
    "\n",
    "for u in list_of_u:\n",
    "    div = divergence(u, [x,y,z])\n",
    "    div = simplify(div)\n",
    "    div = trigsimp(div)\n",
    "    \n",
    "    assert div == 0"
   ]
  },
  {
   "cell_type": "markdown",
   "metadata": {},
   "source": [
    "# Display the modes"
   ]
  },
  {
   "cell_type": "code",
   "execution_count": 9,
   "metadata": {},
   "outputs": [
    {
     "data": {
      "text/latex": [
       "$\\displaystyle \\left[\\begin{matrix}\\sqrt{2} \\sin{\\left(\\frac{\\pi y}{2} \\right)}\\\\0\\\\0\\end{matrix}\\right]$"
      ],
      "text/plain": [
       "Matrix([\n",
       "[sqrt(2)*sin(pi*y/2)],\n",
       "[                  0],\n",
       "[                  0]])"
      ]
     },
     "metadata": {},
     "output_type": "display_data"
    },
    {
     "data": {
      "text/latex": [
       "$\\displaystyle \\left[\\begin{matrix}\\frac{4 \\sqrt{3} \\cos^{2}{\\left(\\frac{\\pi y}{2} \\right)} \\cos{\\left(\\gamma z \\right)}}{3}\\\\0\\\\0\\end{matrix}\\right]$"
      ],
      "text/plain": [
       "Matrix([\n",
       "[4*sqrt(3)*cos(pi*y/2)**2*cos(\\gamma*z)/3],\n",
       "[                                       0],\n",
       "[                                       0]])"
      ]
     },
     "metadata": {},
     "output_type": "display_data"
    },
    {
     "data": {
      "text/latex": [
       "$\\displaystyle \\left[\\begin{matrix}0\\\\\\frac{4 \\gamma \\cos{\\left(\\frac{\\pi y}{2} \\right)} \\cos{\\left(\\gamma z \\right)}}{\\sqrt{4 \\gamma^{2} + \\pi^{2}}}\\\\\\frac{2 \\pi \\sin{\\left(\\frac{\\pi y}{2} \\right)} \\sin{\\left(\\gamma z \\right)}}{\\sqrt{4 \\gamma^{2} + \\pi^{2}}}\\end{matrix}\\right]$"
      ],
      "text/plain": [
       "Matrix([\n",
       "[                                                           0],\n",
       "[4*\\gamma*cos(pi*y/2)*cos(\\gamma*z)/sqrt(4*\\gamma**2 + pi**2)],\n",
       "[    2*pi*sin(pi*y/2)*sin(\\gamma*z)/sqrt(4*\\gamma**2 + pi**2)]])"
      ]
     },
     "metadata": {},
     "output_type": "display_data"
    },
    {
     "data": {
      "text/latex": [
       "$\\displaystyle \\left[\\begin{matrix}0\\\\0\\\\\\frac{4 \\sqrt{3} \\cos^{2}{\\left(\\frac{\\pi y}{2} \\right)} \\cos{\\left(\\alpha x \\right)}}{3}\\end{matrix}\\right]$"
      ],
      "text/plain": [
       "Matrix([\n",
       "[                                       0],\n",
       "[                                       0],\n",
       "[4*sqrt(3)*cos(pi*y/2)**2*cos(\\alpha*x)/3]])"
      ]
     },
     "metadata": {},
     "output_type": "display_data"
    },
    {
     "data": {
      "text/latex": [
       "$\\displaystyle \\left[\\begin{matrix}0\\\\0\\\\2 \\sin{\\left(\\frac{\\pi y}{2} \\right)} \\sin{\\left(\\alpha x \\right)}\\end{matrix}\\right]$"
      ],
      "text/plain": [
       "Matrix([\n",
       "[                          0],\n",
       "[                          0],\n",
       "[2*sin(pi*y/2)*sin(\\alpha*x)]])"
      ]
     },
     "metadata": {},
     "output_type": "display_data"
    },
    {
     "data": {
      "text/latex": [
       "$\\displaystyle \\left[\\begin{matrix}- \\frac{4 \\sqrt{2} \\gamma \\sin{\\left(\\gamma z \\right)} \\cos^{2}{\\left(\\frac{\\pi y}{2} \\right)} \\cos{\\left(\\alpha x \\right)}}{\\sqrt{3 \\alpha^{2} + 3 \\gamma^{2}}}\\\\0\\\\\\frac{4 \\sqrt{2} \\alpha \\sin{\\left(\\alpha x \\right)} \\cos^{2}{\\left(\\frac{\\pi y}{2} \\right)} \\cos{\\left(\\gamma z \\right)}}{\\sqrt{3 \\alpha^{2} + 3 \\gamma^{2}}}\\end{matrix}\\right]$"
      ],
      "text/plain": [
       "Matrix([\n",
       "[-4*sqrt(2)*\\gamma*sin(\\gamma*z)*cos(pi*y/2)**2*cos(\\alpha*x)/sqrt(3*\\alpha**2 + 3*\\gamma**2)],\n",
       "[                                                                                           0],\n",
       "[ 4*sqrt(2)*\\alpha*sin(\\alpha*x)*cos(pi*y/2)**2*cos(\\gamma*z)/sqrt(3*\\alpha**2 + 3*\\gamma**2)]])"
      ]
     },
     "metadata": {},
     "output_type": "display_data"
    },
    {
     "data": {
      "text/latex": [
       "$\\displaystyle \\left[\\begin{matrix}\\frac{2 \\sqrt{2} \\gamma \\sin{\\left(\\frac{\\pi y}{2} \\right)} \\sin{\\left(\\alpha x \\right)} \\sin{\\left(\\gamma z \\right)}}{\\sqrt{\\alpha^{2} + \\gamma^{2}}}\\\\0\\\\\\frac{2 \\sqrt{2} \\alpha \\sin{\\left(\\frac{\\pi y}{2} \\right)} \\cos{\\left(\\alpha x \\right)} \\cos{\\left(\\gamma z \\right)}}{\\sqrt{\\alpha^{2} + \\gamma^{2}}}\\end{matrix}\\right]$"
      ],
      "text/plain": [
       "Matrix([\n",
       "[2*sqrt(2)*\\gamma*sin(pi*y/2)*sin(\\alpha*x)*sin(\\gamma*z)/sqrt(\\alpha**2 + \\gamma**2)],\n",
       "[                                                                                   0],\n",
       "[2*sqrt(2)*\\alpha*sin(pi*y/2)*cos(\\alpha*x)*cos(\\gamma*z)/sqrt(\\alpha**2 + \\gamma**2)]])"
      ]
     },
     "metadata": {},
     "output_type": "display_data"
    },
    {
     "data": {
      "text/latex": [
       "$\\displaystyle \\left[\\begin{matrix}\\frac{2 \\sqrt{2} \\pi \\alpha \\sin{\\left(\\frac{\\pi y}{2} \\right)} \\sin{\\left(\\alpha x \\right)} \\sin{\\left(\\gamma z \\right)}}{\\sqrt{\\alpha^{2} + \\gamma^{2}} \\sqrt{4 \\alpha^{2} + 4 \\gamma^{2} + \\pi^{2}}}\\\\\\frac{2 \\sqrt{2} \\left(2 \\alpha^{2} + 2 \\gamma^{2}\\right) \\sin{\\left(\\gamma z \\right)} \\cos{\\left(\\frac{\\pi y}{2} \\right)} \\cos{\\left(\\alpha x \\right)}}{\\sqrt{\\alpha^{2} + \\gamma^{2}} \\sqrt{4 \\alpha^{2} + 4 \\gamma^{2} + \\pi^{2}}}\\\\- \\frac{2 \\sqrt{2} \\pi \\gamma \\sin{\\left(\\frac{\\pi y}{2} \\right)} \\cos{\\left(\\alpha x \\right)} \\cos{\\left(\\gamma z \\right)}}{\\sqrt{\\alpha^{2} + \\gamma^{2}} \\sqrt{4 \\alpha^{2} + 4 \\gamma^{2} + \\pi^{2}}}\\end{matrix}\\right]$"
      ],
      "text/plain": [
       "Matrix([\n",
       "[                  2*sqrt(2)*pi*\\alpha*sin(pi*y/2)*sin(\\alpha*x)*sin(\\gamma*z)/(sqrt(\\alpha**2 + \\gamma**2)*sqrt(4*\\alpha**2 + 4*\\gamma**2 + pi**2))],\n",
       "[2*sqrt(2)*(2*\\alpha**2 + 2*\\gamma**2)*sin(\\gamma*z)*cos(pi*y/2)*cos(\\alpha*x)/(sqrt(\\alpha**2 + \\gamma**2)*sqrt(4*\\alpha**2 + 4*\\gamma**2 + pi**2))],\n",
       "[                 -2*sqrt(2)*pi*\\gamma*sin(pi*y/2)*cos(\\alpha*x)*cos(\\gamma*z)/(sqrt(\\alpha**2 + \\gamma**2)*sqrt(4*\\alpha**2 + 4*\\gamma**2 + pi**2))]])"
      ]
     },
     "metadata": {},
     "output_type": "display_data"
    },
    {
     "data": {
      "text/latex": [
       "$\\displaystyle \\left[\\begin{matrix}\\sqrt{2} \\sin{\\left(\\frac{3 \\pi y}{2} \\right)}\\\\0\\\\0\\end{matrix}\\right]$"
      ],
      "text/plain": [
       "Matrix([\n",
       "[sqrt(2)*sin(3*pi*y/2)],\n",
       "[                    0],\n",
       "[                    0]])"
      ]
     },
     "metadata": {},
     "output_type": "display_data"
    }
   ],
   "source": [
    "for u in list_of_u:\n",
    "    display(u)"
   ]
  },
  {
   "cell_type": "markdown",
   "metadata": {},
   "source": [
    "# Calculate I1 over all posible permutations\n",
    "It will check if the result is allready in the folder ./expressions. If you want to re-run the calculation make sure those folders are emtpy."
   ]
  },
  {
   "cell_type": "code",
   "execution_count": 10,
   "metadata": {
    "scrolled": true
   },
   "outputs": [
    {
     "name": "stdout",
     "output_type": "stream",
     "text": [
      "Jobs to do: 729\n"
     ]
    },
    {
     "data": {
      "application/vnd.jupyter.widget-view+json": {
       "model_id": "1b0baefe972d4639b1d679b306fb73fb",
       "version_major": 2,
       "version_minor": 0
      },
      "text/plain": [
       "HBox(children=(FloatProgress(value=0.0, max=729.0), HTML(value=u'')))"
      ]
     },
     "metadata": {},
     "output_type": "display_data"
    },
    {
     "name": "stdout",
     "output_type": "stream",
     "text": [
      "\n"
     ]
    }
   ],
   "source": [
    "def wrapper(indices):\n",
    "    \n",
    "    m,l,n = indices\n",
    "    \n",
    "    out_path = \"expressions/I1/I1_m={}_l={}_n={}.pkl\".format(m,l,n)\n",
    "    \n",
    "    if not os.path.isfile(out_path):\n",
    "    \n",
    "        nonlin = calc_I1(list_of_u[m],list_of_u[l],list_of_u[n])\n",
    "        nonlin = simplify(nonlin)\n",
    "        nonlin = trigsimp(nonlin)\n",
    "\n",
    "        integral = integrate_over_volumne(nonlin)\n",
    "        integral = simplify(integral)\n",
    "        integral = trigsimp(integral) \n",
    "\n",
    "        with open(out_path, \"w\") as outf:\n",
    "            pickle.dump(integral, outf)\n",
    "    \n",
    "    \n",
    "# List all the differnt permutations for the indices\n",
    "todolist = [p for p in itertools.product(range(9), repeat=3)]\n",
    "\n",
    "print(\"Jobs to do: {}\".format(len(todolist)))\n",
    "\n",
    "# # Run jobs on one thread\n",
    "# for item in tqdm(todolist):\n",
    "#     wrapper(item)\n",
    "\n",
    "# do the calculations in parallel\n",
    "pool = Pool(processes=8)\n",
    "for _ in tqdm(pool.imap_unordered(wrapper, todolist), total=len(todolist)):\n",
    "    pass"
   ]
  },
  {
   "cell_type": "markdown",
   "metadata": {},
   "source": [
    "### Check Couplings\n",
    "\n",
    "Those are the nonlinear couplings of the modes. Compare to **Table 1** in the puplication."
   ]
  },
  {
   "cell_type": "code",
   "execution_count": 11,
   "metadata": {
    "scrolled": false
   },
   "outputs": [
    {
     "data": {
      "text/html": [
       "<div>\n",
       "<style scoped>\n",
       "    .dataframe tbody tr th:only-of-type {\n",
       "        vertical-align: middle;\n",
       "    }\n",
       "\n",
       "    .dataframe tbody tr th {\n",
       "        vertical-align: top;\n",
       "    }\n",
       "\n",
       "    .dataframe thead th {\n",
       "        text-align: right;\n",
       "    }\n",
       "</style>\n",
       "<table border=\"1\" class=\"dataframe\">\n",
       "  <thead>\n",
       "    <tr style=\"text-align: right;\">\n",
       "      <th></th>\n",
       "      <th>0</th>\n",
       "      <th>1</th>\n",
       "      <th>2</th>\n",
       "      <th>3</th>\n",
       "      <th>4</th>\n",
       "      <th>5</th>\n",
       "      <th>6</th>\n",
       "      <th>7</th>\n",
       "      <th>8</th>\n",
       "    </tr>\n",
       "  </thead>\n",
       "  <tbody>\n",
       "    <tr>\n",
       "      <th>0</th>\n",
       "      <td></td>\n",
       "      <td></td>\n",
       "      <td></td>\n",
       "      <td>4</td>\n",
       "      <td>3</td>\n",
       "      <td>6</td>\n",
       "      <td>5</td>\n",
       "      <td></td>\n",
       "      <td></td>\n",
       "    </tr>\n",
       "    <tr>\n",
       "      <th>1</th>\n",
       "      <td></td>\n",
       "      <td></td>\n",
       "      <td></td>\n",
       "      <td>5</td>\n",
       "      <td>6, 7</td>\n",
       "      <td>3</td>\n",
       "      <td>4</td>\n",
       "      <td>4</td>\n",
       "      <td></td>\n",
       "    </tr>\n",
       "    <tr>\n",
       "      <th>2</th>\n",
       "      <td>1</td>\n",
       "      <td>0, 8</td>\n",
       "      <td></td>\n",
       "      <td>6, 7</td>\n",
       "      <td>5</td>\n",
       "      <td>4</td>\n",
       "      <td>3</td>\n",
       "      <td>3</td>\n",
       "      <td>1</td>\n",
       "    </tr>\n",
       "    <tr>\n",
       "      <th>3</th>\n",
       "      <td></td>\n",
       "      <td>5</td>\n",
       "      <td>6, 7</td>\n",
       "      <td></td>\n",
       "      <td></td>\n",
       "      <td>1</td>\n",
       "      <td>2</td>\n",
       "      <td>2</td>\n",
       "      <td></td>\n",
       "    </tr>\n",
       "    <tr>\n",
       "      <th>4</th>\n",
       "      <td></td>\n",
       "      <td>6, 7</td>\n",
       "      <td>5</td>\n",
       "      <td></td>\n",
       "      <td></td>\n",
       "      <td>2</td>\n",
       "      <td>1</td>\n",
       "      <td>1</td>\n",
       "      <td></td>\n",
       "    </tr>\n",
       "    <tr>\n",
       "      <th>5</th>\n",
       "      <td></td>\n",
       "      <td></td>\n",
       "      <td>4</td>\n",
       "      <td></td>\n",
       "      <td>2</td>\n",
       "      <td></td>\n",
       "      <td></td>\n",
       "      <td></td>\n",
       "      <td></td>\n",
       "    </tr>\n",
       "    <tr>\n",
       "      <th>6</th>\n",
       "      <td></td>\n",
       "      <td></td>\n",
       "      <td>3</td>\n",
       "      <td>2</td>\n",
       "      <td></td>\n",
       "      <td></td>\n",
       "      <td></td>\n",
       "      <td></td>\n",
       "      <td></td>\n",
       "    </tr>\n",
       "    <tr>\n",
       "      <th>7</th>\n",
       "      <td>5</td>\n",
       "      <td></td>\n",
       "      <td>3</td>\n",
       "      <td>2</td>\n",
       "      <td></td>\n",
       "      <td>0, 8</td>\n",
       "      <td></td>\n",
       "      <td></td>\n",
       "      <td>5</td>\n",
       "    </tr>\n",
       "    <tr>\n",
       "      <th>8</th>\n",
       "      <td></td>\n",
       "      <td></td>\n",
       "      <td></td>\n",
       "      <td>4</td>\n",
       "      <td>3</td>\n",
       "      <td>6</td>\n",
       "      <td>5</td>\n",
       "      <td></td>\n",
       "      <td></td>\n",
       "    </tr>\n",
       "  </tbody>\n",
       "</table>\n",
       "</div>"
      ],
      "text/plain": [
       "   0     1     2     3     4     5  6  7  8\n",
       "0                    4     3     6  5      \n",
       "1                    5  6, 7     3  4  4   \n",
       "2  1  0, 8        6, 7     5     4  3  3  1\n",
       "3        5  6, 7                 1  2  2   \n",
       "4     6, 7     5                 2  1  1   \n",
       "5              4           2               \n",
       "6              3     2                     \n",
       "7  5           3     2        0, 8        5\n",
       "8                    4     3     6  5      "
      ]
     },
     "execution_count": 11,
     "metadata": {},
     "output_type": "execute_result"
    }
   ],
   "source": [
    "all_couplings = glob.glob(\"expressions/I1/*.pkl\")\n",
    "\n",
    "table = np.zeros((9,9,9))\n",
    "\n",
    "for coupling in all_couplings:\n",
    "\n",
    "    # get the indices from the filename \n",
    "    \n",
    "    match = re.search(\"m=(\\d+)\",coupling)\n",
    "    m = int(match.group(1))\n",
    "    \n",
    "    match = re.search(\"l=(\\d+)\",coupling)\n",
    "    l = int(match.group(1))\n",
    "    \n",
    "    match = re.search(\"n=(\\d+)\",coupling)\n",
    "    n = int(match.group(1))\n",
    "    \n",
    "\n",
    "    with open(coupling) as inf:\n",
    "        out = pickle.load(inf)\n",
    "\n",
    "    if out != 0:\n",
    "        table[m,l,n] += 1\n",
    "\n",
    "        \n",
    "# some pandas magic to get the table from the 3d numpy array        \n",
    "df = pd.DataFrame(table.tolist())\n",
    "df = df.applymap(np.nonzero)\n",
    "df = df.applymap(lambda x: ', '.join(str(xx) for xx in x[0]))\n",
    "df"
   ]
  },
  {
   "cell_type": "markdown",
   "metadata": {},
   "source": [
    "# Calculate I2 over all posible permutations\n",
    "It will check if the result is allready in the folder ./expressions. If you want to re-run the calculation make sure those folders are emtpy."
   ]
  },
  {
   "cell_type": "code",
   "execution_count": 12,
   "metadata": {},
   "outputs": [
    {
     "name": "stdout",
     "output_type": "stream",
     "text": [
      "Jobs to do: 81\n"
     ]
    },
    {
     "data": {
      "application/vnd.jupyter.widget-view+json": {
       "model_id": "348482d815804aeab7c40f822a46096b",
       "version_major": 2,
       "version_minor": 0
      },
      "text/plain": [
       "HBox(children=(FloatProgress(value=0.0, max=81.0), HTML(value=u'')))"
      ]
     },
     "metadata": {},
     "output_type": "display_data"
    },
    {
     "name": "stdout",
     "output_type": "stream",
     "text": [
      "\n"
     ]
    }
   ],
   "source": [
    "def wrapper(indices):\n",
    "    \n",
    "    m,n = indices\n",
    "    \n",
    "    out_path = \"expressions/I2/I2_m={}_n={}.pkl\".format(m,n)\n",
    "    \n",
    "    if not os.path.isfile(out_path):\n",
    "    \n",
    "        diffusion = calc_I2(list_of_u[m],list_of_u[n])\n",
    "        diffusion = simplify(diffusion)\n",
    "        diffusion = trigsimp(diffusion)\n",
    "\n",
    "        integral = integrate_over_volumne(diffusion)\n",
    "        integral = simplify(integral)\n",
    "        integral = trigsimp(integral)\n",
    "\n",
    "        with open(out_path, \"w\") as outf:\n",
    "            pickle.dump(integral, outf)\n",
    "    \n",
    "    \n",
    "# List all the differnt permutations for the indices\n",
    "todolist = [p for p in itertools.product(range(9), repeat=2)]\n",
    "\n",
    "print(\"Jobs to do: {}\".format(len(todolist)))\n",
    "\n",
    "# # Run jobs on one thread\n",
    "# for item in tqdm(todolist):\n",
    "#     wrapper(item)\n",
    "\n",
    "# do the calculations in parallel\n",
    "pool = Pool(processes=8)\n",
    "for _ in tqdm(pool.imap_unordered(wrapper, todolist), total=len(todolist)):\n",
    "    pass"
   ]
  },
  {
   "cell_type": "markdown",
   "metadata": {},
   "source": [
    "# Calculate I3 over all posible permutations\n",
    "It will check if the result is allready in the folder ./expressions. If you want to re-run the calculation make sure those folders are emtpy."
   ]
  },
  {
   "cell_type": "code",
   "execution_count": 13,
   "metadata": {},
   "outputs": [
    {
     "name": "stdout",
     "output_type": "stream",
     "text": [
      "Jobs to do: 9\n"
     ]
    },
    {
     "data": {
      "application/vnd.jupyter.widget-view+json": {
       "model_id": "30bfe106a9194295940dd8f0edb291d3",
       "version_major": 2,
       "version_minor": 0
      },
      "text/plain": [
       "HBox(children=(FloatProgress(value=0.0, max=9.0), HTML(value=u'')))"
      ]
     },
     "metadata": {},
     "output_type": "display_data"
    },
    {
     "name": "stdout",
     "output_type": "stream",
     "text": [
      "\n"
     ]
    }
   ],
   "source": [
    "def wrapper(indices):\n",
    "    \n",
    "    n = indices\n",
    "\n",
    "    out_path = \"expressions/I3/I3_n={}.pkl\".format(n)\n",
    "\n",
    "    if not os.path.isfile(out_path):\n",
    "    \n",
    "        diffusion = calc_I3(list_of_u[n],force)\n",
    "        diffusion = simplify(diffusion)\n",
    "        diffusion = trigsimp(diffusion)\n",
    "\n",
    "        integral = integrate_over_volumne(diffusion)\n",
    "        integral = simplify(integral)\n",
    "        integral = trigsimp(integral) \n",
    "        \n",
    "        with open(out_path, \"w\") as outf:\n",
    "            pickle.dump(integral, outf)\n",
    "    \n",
    "# List all the differnt permutations for the indices\n",
    "todolist = range(9)\n",
    "\n",
    "print(\"Jobs to do: {}\".format(len(todolist)))\n",
    "\n",
    "# # Run jobs on one thread\n",
    "# for item in tqdm(todolist):\n",
    "#     wrapper(item)\n",
    "\n",
    "# do the calculations in parallel\n",
    "pool = Pool(processes=8)\n",
    "for _ in tqdm(pool.imap_unordered(wrapper, todolist), total=len(todolist)):\n",
    "    pass"
   ]
  },
  {
   "cell_type": "markdown",
   "metadata": {},
   "source": [
    "# Build the equations"
   ]
  },
  {
   "cell_type": "code",
   "execution_count": 14,
   "metadata": {},
   "outputs": [],
   "source": [
    "a0 = Symbol(\"a0\")\n",
    "a1 = Symbol(\"a1\")\n",
    "a2 = Symbol(\"a2\")\n",
    "a3 = Symbol(\"a3\")\n",
    "a4 = Symbol(\"a4\")\n",
    "a5 = Symbol(\"a5\")\n",
    "a6 = Symbol(\"a6\")\n",
    "a7 = Symbol(\"a7\")\n",
    "a8 = Symbol(\"a8\")\n",
    "\n",
    "list_of_a = [a0,a1,a2,a3,a4,a5,a6,a7,a8]"
   ]
  },
  {
   "cell_type": "code",
   "execution_count": 15,
   "metadata": {},
   "outputs": [
    {
     "data": {
      "text/latex": [
       "$\\displaystyle \\frac{\\alpha \\gamma}{8 \\pi^{2}}$"
      ],
      "text/plain": [
       "\\alpha*\\gamma/(8*pi**2)"
      ]
     },
     "execution_count": 15,
     "metadata": {},
     "output_type": "execute_result"
    }
   ],
   "source": [
    "# define 1/constant of the left side of the NSE\n",
    "C = a*g/(8*pi**2)\n",
    "C"
   ]
  },
  {
   "cell_type": "code",
   "execution_count": 16,
   "metadata": {},
   "outputs": [],
   "source": [
    "odes = [] # list for the nine odes\n",
    "\n",
    "for n in range(9):\n",
    "\n",
    "    ode = 0 # start with an emtpy expression\n",
    "    \n",
    "    # build the nonlinear part\n",
    "    for m,l in [p for p in itertools.product(range(9), repeat=2)]:\n",
    "        \n",
    "        path = \"expressions/I1/I1_m={}_l={}_n={}.pkl\".format(m,l,n)\n",
    "        with open(path) as inf:\n",
    "            X = pickle.load(inf) \n",
    "            \n",
    "        ode += -C *list_of_a[m] * list_of_a[l] * X # add according to the NSE\n",
    "    \n",
    "\n",
    "    # build the linear part\n",
    "    for m in range(9):\n",
    "        \n",
    "        path = \"expressions/I2/I2_m={}_n={}.pkl\".format(m,n)\n",
    "        with open(path) as inf:\n",
    "            X = pickle.load(inf) \n",
    "            \n",
    "        ode += 1/Re * C * list_of_a[m] * X # add according to the NSE\n",
    "        \n",
    "\n",
    "    # add the force coupling\n",
    "    path = \"expressions/I3/I3_n={}.pkl\".format(n)\n",
    "    with open(path) as inf:\n",
    "        X = pickle.load(inf) \n",
    "\n",
    "    ode += C * X # add according to the NSE\n",
    "    \n",
    "    odes.append(ode)"
   ]
  },
  {
   "cell_type": "code",
   "execution_count": 17,
   "metadata": {
    "scrolled": true
   },
   "outputs": [
    {
     "data": {
      "text/latex": [
       "$\\displaystyle \\frac{\\sqrt{6} \\pi \\gamma a_{1} a_{2}}{2 \\sqrt{4 \\gamma^{2} + \\pi^{2}}} - \\frac{\\sqrt{6} \\pi \\gamma a_{5} a_{7} \\left(\\alpha^{2} + \\gamma^{2}\\right)}{2 \\sqrt{4 \\alpha^{6} + 12 \\alpha^{4} \\gamma^{2} + \\pi^{2} \\alpha^{4} + 12 \\alpha^{2} \\gamma^{4} + 2 \\pi^{2} \\alpha^{2} \\gamma^{2} + 4 \\gamma^{6} + \\pi^{2} \\gamma^{4}}} - \\frac{\\pi^{2} a_{0}}{4 Re} + \\frac{\\pi^{2}}{4 Re}$"
      ],
      "text/plain": [
       "sqrt(6)*pi*\\gamma*a1*a2/(2*sqrt(4*\\gamma**2 + pi**2)) - sqrt(6)*pi*\\gamma*a5*a7*(\\alpha**2 + \\gamma**2)/(2*sqrt(4*\\alpha**6 + 12*\\alpha**4*\\gamma**2 + pi**2*\\alpha**4 + 12*\\alpha**2*\\gamma**4 + 2*pi**2*\\alpha**2*\\gamma**2 + 4*\\gamma**6 + pi**2*\\gamma**4)) - pi**2*a0/(4*Re) + pi**2/(4*Re)"
      ]
     },
     "metadata": {},
     "output_type": "display_data"
    },
    {
     "name": "stdout",
     "output_type": "stream",
     "text": [
      "\n",
      "\n",
      "\n",
      "\n"
     ]
    },
    {
     "data": {
      "text/latex": [
       "$\\displaystyle - \\frac{\\sqrt{6} \\pi \\alpha \\gamma a_{4} a_{7}}{6 \\sqrt{4 \\alpha^{4} + 8 \\alpha^{2} \\gamma^{2} + \\pi^{2} \\alpha^{2} + 4 \\gamma^{4} + \\pi^{2} \\gamma^{2}}} + \\frac{5 \\sqrt{6} \\gamma^{2} a_{3} a_{5}}{9 \\sqrt{\\alpha^{2} + \\gamma^{2}}} - \\frac{\\sqrt{6} \\gamma^{2} a_{4} a_{6}}{6 \\sqrt{\\alpha^{2} + \\gamma^{2}}} - \\frac{\\sqrt{6} \\pi \\gamma a_{0} a_{2}}{2 \\sqrt{4 \\gamma^{2} + \\pi^{2}}} - \\frac{\\sqrt{6} \\pi \\gamma a_{2} a_{8}}{2 \\sqrt{4 \\gamma^{2} + \\pi^{2}}} - \\frac{a_{1} \\left(3 \\gamma^{2} + \\pi^{2}\\right)}{3 Re}$"
      ],
      "text/plain": [
       "-sqrt(6)*pi*\\alpha*\\gamma*a4*a7/(6*sqrt(4*\\alpha**4 + 8*\\alpha**2*\\gamma**2 + pi**2*\\alpha**2 + 4*\\gamma**4 + pi**2*\\gamma**2)) + 5*sqrt(6)*\\gamma**2*a3*a5/(9*sqrt(\\alpha**2 + \\gamma**2)) - sqrt(6)*\\gamma**2*a4*a6/(6*sqrt(\\alpha**2 + \\gamma**2)) - sqrt(6)*pi*\\gamma*a0*a2/(2*sqrt(4*\\gamma**2 + pi**2)) - sqrt(6)*pi*\\gamma*a2*a8/(2*sqrt(4*\\gamma**2 + pi**2)) - a1*(3*\\gamma**2 + pi**2)/(3*Re)"
      ]
     },
     "metadata": {},
     "output_type": "display_data"
    },
    {
     "name": "stdout",
     "output_type": "stream",
     "text": [
      "\n",
      "\n",
      "\n",
      "\n"
     ]
    },
    {
     "data": {
      "text/latex": [
       "$\\displaystyle \\frac{\\sqrt{6} \\pi \\alpha \\gamma a_{3} a_{6}}{3 \\sqrt{\\alpha^{2} + \\gamma^{2}} \\sqrt{4 \\gamma^{2} + \\pi^{2}}} + \\frac{\\sqrt{6} \\pi \\alpha \\gamma a_{4} a_{5}}{3 \\sqrt{\\alpha^{2} + \\gamma^{2}} \\sqrt{4 \\gamma^{2} + \\pi^{2}}} - \\frac{\\sqrt{6} \\gamma^{2} a_{3} a_{7} \\left(12 \\alpha^{2} + 12 \\gamma^{2} + \\pi^{2}\\right)}{6 \\sqrt{16 \\alpha^{4} \\gamma^{2} + 4 \\pi^{2} \\alpha^{4} + 32 \\alpha^{2} \\gamma^{4} + 12 \\pi^{2} \\alpha^{2} \\gamma^{2} + \\pi^{4} \\alpha^{2} + 16 \\gamma^{6} + 8 \\pi^{2} \\gamma^{4} + \\pi^{4} \\gamma^{2}}} + \\frac{\\sqrt{6} \\pi^{2} a_{3} a_{7} \\left(4 \\alpha^{2} + \\frac{8 \\gamma^{2}}{3}\\right)}{8 \\sqrt{16 \\alpha^{4} \\gamma^{2} + 4 \\pi^{2} \\alpha^{4} + 32 \\alpha^{2} \\gamma^{4} + 12 \\pi^{2} \\alpha^{2} \\gamma^{2} + \\pi^{4} \\alpha^{2} + 16 \\gamma^{6} + 8 \\pi^{2} \\gamma^{4} + \\pi^{4} \\gamma^{2}}} - \\frac{a_{2} \\left(4 \\gamma^{2} + \\pi^{2}\\right)}{4 Re}$"
      ],
      "text/plain": [
       "sqrt(6)*pi*\\alpha*\\gamma*a3*a6/(3*sqrt(\\alpha**2 + \\gamma**2)*sqrt(4*\\gamma**2 + pi**2)) + sqrt(6)*pi*\\alpha*\\gamma*a4*a5/(3*sqrt(\\alpha**2 + \\gamma**2)*sqrt(4*\\gamma**2 + pi**2)) - sqrt(6)*\\gamma**2*a3*a7*(12*\\alpha**2 + 12*\\gamma**2 + pi**2)/(6*sqrt(16*\\alpha**4*\\gamma**2 + 4*pi**2*\\alpha**4 + 32*\\alpha**2*\\gamma**4 + 12*pi**2*\\alpha**2*\\gamma**2 + pi**4*\\alpha**2 + 16*\\gamma**6 + 8*pi**2*\\gamma**4 + pi**4*\\gamma**2)) + sqrt(6)*pi**2*a3*a7*(4*\\alpha**2 + 8*\\gamma**2/3)/(8*sqrt(16*\\alpha**4*\\gamma**2 + 4*pi**2*\\alpha**4 + 32*\\alpha**2*\\gamma**4 + 12*pi**2*\\alpha**2*\\gamma**2 + pi**4*\\alpha**2 + 16*\\gamma**6 + 8*pi**2*\\gamma**4 + pi**4*\\gamma**2)) - a2*(4*\\gamma**2 + pi**2)/(4*Re)"
      ]
     },
     "metadata": {},
     "output_type": "display_data"
    },
    {
     "name": "stdout",
     "output_type": "stream",
     "text": [
      "\n",
      "\n",
      "\n",
      "\n"
     ]
    },
    {
     "data": {
      "text/latex": [
       "$\\displaystyle - \\frac{5 \\sqrt{6} \\alpha^{2} a_{1} a_{5}}{9 \\sqrt{\\alpha^{2} + \\gamma^{2}}} - \\frac{\\sqrt{6} \\pi \\alpha \\gamma a_{2} a_{6}}{2 \\sqrt{\\alpha^{2} + \\gamma^{2}} \\sqrt{4 \\gamma^{2} + \\pi^{2}}} - \\frac{\\sqrt{6} \\alpha a_{0} a_{4}}{6} - \\frac{\\sqrt{6} \\alpha a_{4} a_{8}}{6} + \\frac{\\sqrt{6} \\pi^{2} \\gamma^{2} a_{2} a_{7}}{3 \\sqrt{16 \\alpha^{4} \\gamma^{2} + 4 \\pi^{2} \\alpha^{4} + 32 \\alpha^{2} \\gamma^{4} + 12 \\pi^{2} \\alpha^{2} \\gamma^{2} + \\pi^{4} \\alpha^{2} + 16 \\gamma^{6} + 8 \\pi^{2} \\gamma^{4} + \\pi^{4} \\gamma^{2}}} - \\frac{\\sqrt{6} \\pi^{2} a_{2} a_{7} \\left(4 \\alpha^{2} + \\frac{8 \\gamma^{2}}{3}\\right)}{8 \\sqrt{16 \\alpha^{4} \\gamma^{2} + 4 \\pi^{2} \\alpha^{4} + 32 \\alpha^{2} \\gamma^{4} + 12 \\pi^{2} \\alpha^{2} \\gamma^{2} + \\pi^{4} \\alpha^{2} + 16 \\gamma^{6} + 8 \\pi^{2} \\gamma^{4} + \\pi^{4} \\gamma^{2}}} - \\frac{a_{3} \\left(3 \\alpha^{2} + \\pi^{2}\\right)}{3 Re}$"
      ],
      "text/plain": [
       "-5*sqrt(6)*\\alpha**2*a1*a5/(9*sqrt(\\alpha**2 + \\gamma**2)) - sqrt(6)*pi*\\alpha*\\gamma*a2*a6/(2*sqrt(\\alpha**2 + \\gamma**2)*sqrt(4*\\gamma**2 + pi**2)) - sqrt(6)*\\alpha*a0*a4/6 - sqrt(6)*\\alpha*a4*a8/6 + sqrt(6)*pi**2*\\gamma**2*a2*a7/(3*sqrt(16*\\alpha**4*\\gamma**2 + 4*pi**2*\\alpha**4 + 32*\\alpha**2*\\gamma**4 + 12*pi**2*\\alpha**2*\\gamma**2 + pi**4*\\alpha**2 + 16*\\gamma**6 + 8*pi**2*\\gamma**4 + pi**4*\\gamma**2)) - sqrt(6)*pi**2*a2*a7*(4*\\alpha**2 + 8*\\gamma**2/3)/(8*sqrt(16*\\alpha**4*\\gamma**2 + 4*pi**2*\\alpha**4 + 32*\\alpha**2*\\gamma**4 + 12*pi**2*\\alpha**2*\\gamma**2 + pi**4*\\alpha**2 + 16*\\gamma**6 + 8*pi**2*\\gamma**4 + pi**4*\\gamma**2)) - a3*(3*\\alpha**2 + pi**2)/(3*Re)"
      ]
     },
     "metadata": {},
     "output_type": "display_data"
    },
    {
     "name": "stdout",
     "output_type": "stream",
     "text": [
      "\n",
      "\n",
      "\n",
      "\n"
     ]
    },
    {
     "data": {
      "text/latex": [
       "$\\displaystyle \\frac{\\sqrt{6} \\alpha^{2} a_{1} a_{6}}{6 \\sqrt{\\alpha^{2} + \\gamma^{2}}} - \\frac{\\sqrt{6} \\pi \\alpha \\gamma a_{1} a_{7}}{6 \\sqrt{4 \\alpha^{4} + 8 \\alpha^{2} \\gamma^{2} + \\pi^{2} \\alpha^{2} + 4 \\gamma^{4} + \\pi^{2} \\gamma^{2}}} + \\frac{\\sqrt{6} \\pi \\alpha \\gamma a_{2} a_{5}}{3 \\sqrt{\\alpha^{2} + \\gamma^{2}} \\sqrt{4 \\gamma^{2} + \\pi^{2}}} + \\frac{\\sqrt{6} \\alpha a_{0} a_{3}}{6} + \\frac{\\sqrt{6} \\alpha a_{3} a_{8}}{6} - \\frac{a_{4} \\left(4 \\alpha^{2} + \\pi^{2}\\right)}{4 Re}$"
      ],
      "text/plain": [
       "sqrt(6)*\\alpha**2*a1*a6/(6*sqrt(\\alpha**2 + \\gamma**2)) - sqrt(6)*pi*\\alpha*\\gamma*a1*a7/(6*sqrt(4*\\alpha**4 + 8*\\alpha**2*\\gamma**2 + pi**2*\\alpha**2 + 4*\\gamma**4 + pi**2*\\gamma**2)) + sqrt(6)*pi*\\alpha*\\gamma*a2*a5/(3*sqrt(\\alpha**2 + \\gamma**2)*sqrt(4*\\gamma**2 + pi**2)) + sqrt(6)*\\alpha*a0*a3/6 + sqrt(6)*\\alpha*a3*a8/6 - a4*(4*\\alpha**2 + pi**2)/(4*Re)"
      ]
     },
     "metadata": {},
     "output_type": "display_data"
    },
    {
     "name": "stdout",
     "output_type": "stream",
     "text": [
      "\n",
      "\n",
      "\n",
      "\n"
     ]
    },
    {
     "data": {
      "text/latex": [
       "$\\displaystyle \\frac{5 \\sqrt{6} \\alpha^{2} a_{1} a_{3}}{9 \\sqrt{\\alpha^{2} + \\gamma^{2}}} - \\frac{2 \\sqrt{6} \\pi \\alpha \\gamma a_{2} a_{4}}{3 \\sqrt{\\alpha^{2} + \\gamma^{2}} \\sqrt{4 \\gamma^{2} + \\pi^{2}}} + \\frac{\\sqrt{6} \\alpha a_{0} a_{6} \\left(\\alpha^{2} + \\gamma^{2}\\right)}{6 \\sqrt{\\alpha^{4} + 2 \\alpha^{2} \\gamma^{2} + \\gamma^{4}}} + \\frac{\\sqrt{6} \\alpha a_{6} a_{8} \\left(\\alpha^{2} + \\gamma^{2}\\right)}{6 \\sqrt{\\alpha^{4} + 2 \\alpha^{2} \\gamma^{2} + \\gamma^{4}}} - \\frac{5 \\sqrt{6} \\gamma^{2} a_{1} a_{3}}{9 \\sqrt{\\alpha^{2} + \\gamma^{2}}} + \\frac{\\sqrt{6} \\pi \\gamma a_{0} a_{7} \\left(\\alpha^{2} + \\gamma^{2}\\right)}{2 \\sqrt{4 \\alpha^{6} + 12 \\alpha^{4} \\gamma^{2} + \\pi^{2} \\alpha^{4} + 12 \\alpha^{2} \\gamma^{4} + 2 \\pi^{2} \\alpha^{2} \\gamma^{2} + 4 \\gamma^{6} + \\pi^{2} \\gamma^{4}}} + \\frac{\\sqrt{6} \\pi \\gamma a_{7} a_{8} \\left(\\alpha^{2} + \\gamma^{2}\\right)}{2 \\sqrt{4 \\alpha^{6} + 12 \\alpha^{4} \\gamma^{2} + \\pi^{2} \\alpha^{4} + 12 \\alpha^{2} \\gamma^{4} + 2 \\pi^{2} \\alpha^{2} \\gamma^{2} + 4 \\gamma^{6} + \\pi^{2} \\gamma^{4}}} - \\frac{a_{5} \\left(\\alpha^{2} + \\gamma^{2}\\right) \\left(3 \\alpha^{2} + 3 \\gamma^{2} + \\pi^{2}\\right)}{3 Re \\sqrt{\\alpha^{4} + 2 \\alpha^{2} \\gamma^{2} + \\gamma^{4}}}$"
      ],
      "text/plain": [
       "5*sqrt(6)*\\alpha**2*a1*a3/(9*sqrt(\\alpha**2 + \\gamma**2)) - 2*sqrt(6)*pi*\\alpha*\\gamma*a2*a4/(3*sqrt(\\alpha**2 + \\gamma**2)*sqrt(4*\\gamma**2 + pi**2)) + sqrt(6)*\\alpha*a0*a6*(\\alpha**2 + \\gamma**2)/(6*sqrt(\\alpha**4 + 2*\\alpha**2*\\gamma**2 + \\gamma**4)) + sqrt(6)*\\alpha*a6*a8*(\\alpha**2 + \\gamma**2)/(6*sqrt(\\alpha**4 + 2*\\alpha**2*\\gamma**2 + \\gamma**4)) - 5*sqrt(6)*\\gamma**2*a1*a3/(9*sqrt(\\alpha**2 + \\gamma**2)) + sqrt(6)*pi*\\gamma*a0*a7*(\\alpha**2 + \\gamma**2)/(2*sqrt(4*\\alpha**6 + 12*\\alpha**4*\\gamma**2 + pi**2*\\alpha**4 + 12*\\alpha**2*\\gamma**4 + 2*pi**2*\\alpha**2*\\gamma**2 + 4*\\gamma**6 + pi**2*\\gamma**4)) + sqrt(6)*pi*\\gamma*a7*a8*(\\alpha**2 + \\gamma**2)/(2*sqrt(4*\\alpha**6 + 12*\\alpha**4*\\gamma**2 + pi**2*\\alpha**4 + 12*\\alpha**2*\\gamma**4 + 2*pi**2*\\alpha**2*\\gamma**2 + 4*\\gamma**6 + pi**2*\\gamma**4)) - a5*(\\alpha**2 + \\gamma**2)*(3*\\alpha**2 + 3*\\gamma**2 + pi**2)/(3*Re*sqrt(\\alpha**4 + 2*\\alpha**2*\\gamma**2 + \\gamma**4))"
      ]
     },
     "metadata": {},
     "output_type": "display_data"
    },
    {
     "name": "stdout",
     "output_type": "stream",
     "text": [
      "\n",
      "\n",
      "\n",
      "\n"
     ]
    },
    {
     "data": {
      "text/latex": [
       "$\\displaystyle - \\frac{\\sqrt{6} \\alpha^{2} a_{1} a_{4}}{6 \\sqrt{\\alpha^{2} + \\gamma^{2}}} + \\frac{\\sqrt{6} \\pi \\alpha \\gamma a_{2} a_{3}}{6 \\sqrt{\\alpha^{2} + \\gamma^{2}} \\sqrt{4 \\gamma^{2} + \\pi^{2}}} - \\frac{\\sqrt{6} \\alpha a_{0} a_{5} \\left(\\alpha^{2} + \\gamma^{2}\\right)}{6 \\sqrt{\\alpha^{4} + 2 \\alpha^{2} \\gamma^{2} + \\gamma^{4}}} - \\frac{\\sqrt{6} \\alpha a_{5} a_{8} \\left(\\alpha^{2} + \\gamma^{2}\\right)}{6 \\sqrt{\\alpha^{4} + 2 \\alpha^{2} \\gamma^{2} + \\gamma^{4}}} + \\frac{\\sqrt{6} \\gamma^{2} a_{1} a_{4}}{6 \\sqrt{\\alpha^{2} + \\gamma^{2}}} - \\frac{a_{6} \\left(4 \\alpha^{2} + 4 \\gamma^{2} + \\pi^{2}\\right)}{4 Re}$"
      ],
      "text/plain": [
       "-sqrt(6)*\\alpha**2*a1*a4/(6*sqrt(\\alpha**2 + \\gamma**2)) + sqrt(6)*pi*\\alpha*\\gamma*a2*a3/(6*sqrt(\\alpha**2 + \\gamma**2)*sqrt(4*\\gamma**2 + pi**2)) - sqrt(6)*\\alpha*a0*a5*(\\alpha**2 + \\gamma**2)/(6*sqrt(\\alpha**4 + 2*\\alpha**2*\\gamma**2 + \\gamma**4)) - sqrt(6)*\\alpha*a5*a8*(\\alpha**2 + \\gamma**2)/(6*sqrt(\\alpha**4 + 2*\\alpha**2*\\gamma**2 + \\gamma**4)) + sqrt(6)*\\gamma**2*a1*a4/(6*sqrt(\\alpha**2 + \\gamma**2)) - a6*(4*\\alpha**2 + 4*\\gamma**2 + pi**2)/(4*Re)"
      ]
     },
     "metadata": {},
     "output_type": "display_data"
    },
    {
     "name": "stdout",
     "output_type": "stream",
     "text": [
      "\n",
      "\n",
      "\n",
      "\n"
     ]
    },
    {
     "data": {
      "text/latex": [
       "$\\displaystyle \\frac{\\sqrt{6} \\pi \\alpha \\gamma a_{1} a_{4}}{3 \\sqrt{4 \\alpha^{4} + 8 \\alpha^{2} \\gamma^{2} + \\pi^{2} \\alpha^{2} + 4 \\gamma^{4} + \\pi^{2} \\gamma^{2}}} + \\frac{\\sqrt{6} \\gamma^{2} a_{2} a_{3} \\left(12 \\alpha^{2} + 12 \\gamma^{2} + \\pi^{2}\\right)}{6 \\sqrt{16 \\alpha^{4} \\gamma^{2} + 4 \\pi^{2} \\alpha^{4} + 32 \\alpha^{2} \\gamma^{4} + 12 \\pi^{2} \\alpha^{2} \\gamma^{2} + \\pi^{4} \\alpha^{2} + 16 \\gamma^{6} + 8 \\pi^{2} \\gamma^{4} + \\pi^{4} \\gamma^{2}}} - \\frac{\\sqrt{6} \\pi^{2} \\gamma^{2} a_{2} a_{3}}{3 \\sqrt{16 \\alpha^{4} \\gamma^{2} + 4 \\pi^{2} \\alpha^{4} + 32 \\alpha^{2} \\gamma^{4} + 12 \\pi^{2} \\alpha^{2} \\gamma^{2} + \\pi^{4} \\alpha^{2} + 16 \\gamma^{6} + 8 \\pi^{2} \\gamma^{4} + \\pi^{4} \\gamma^{2}}} - \\frac{a_{7} \\left(4 \\alpha^{2} + 4 \\gamma^{2} + \\pi^{2}\\right)}{4 Re}$"
      ],
      "text/plain": [
       "sqrt(6)*pi*\\alpha*\\gamma*a1*a4/(3*sqrt(4*\\alpha**4 + 8*\\alpha**2*\\gamma**2 + pi**2*\\alpha**2 + 4*\\gamma**4 + pi**2*\\gamma**2)) + sqrt(6)*\\gamma**2*a2*a3*(12*\\alpha**2 + 12*\\gamma**2 + pi**2)/(6*sqrt(16*\\alpha**4*\\gamma**2 + 4*pi**2*\\alpha**4 + 32*\\alpha**2*\\gamma**4 + 12*pi**2*\\alpha**2*\\gamma**2 + pi**4*\\alpha**2 + 16*\\gamma**6 + 8*pi**2*\\gamma**4 + pi**4*\\gamma**2)) - sqrt(6)*pi**2*\\gamma**2*a2*a3/(3*sqrt(16*\\alpha**4*\\gamma**2 + 4*pi**2*\\alpha**4 + 32*\\alpha**2*\\gamma**4 + 12*pi**2*\\alpha**2*\\gamma**2 + pi**4*\\alpha**2 + 16*\\gamma**6 + 8*pi**2*\\gamma**4 + pi**4*\\gamma**2)) - a7*(4*\\alpha**2 + 4*\\gamma**2 + pi**2)/(4*Re)"
      ]
     },
     "metadata": {},
     "output_type": "display_data"
    },
    {
     "name": "stdout",
     "output_type": "stream",
     "text": [
      "\n",
      "\n",
      "\n",
      "\n"
     ]
    },
    {
     "data": {
      "text/latex": [
       "$\\displaystyle \\frac{\\sqrt{6} \\pi \\gamma a_{1} a_{2}}{2 \\sqrt{4 \\gamma^{2} + \\pi^{2}}} - \\frac{\\sqrt{6} \\pi \\gamma a_{5} a_{7} \\left(\\alpha^{2} + \\gamma^{2}\\right)}{2 \\sqrt{4 \\alpha^{6} + 12 \\alpha^{4} \\gamma^{2} + \\pi^{2} \\alpha^{4} + 12 \\alpha^{2} \\gamma^{4} + 2 \\pi^{2} \\alpha^{2} \\gamma^{2} + 4 \\gamma^{6} + \\pi^{2} \\gamma^{4}}} - \\frac{9 \\pi^{2} a_{8}}{4 Re}$"
      ],
      "text/plain": [
       "sqrt(6)*pi*\\gamma*a1*a2/(2*sqrt(4*\\gamma**2 + pi**2)) - sqrt(6)*pi*\\gamma*a5*a7*(\\alpha**2 + \\gamma**2)/(2*sqrt(4*\\alpha**6 + 12*\\alpha**4*\\gamma**2 + pi**2*\\alpha**4 + 12*\\alpha**2*\\gamma**4 + 2*pi**2*\\alpha**2*\\gamma**2 + 4*\\gamma**6 + pi**2*\\gamma**4)) - 9*pi**2*a8/(4*Re)"
      ]
     },
     "metadata": {},
     "output_type": "display_data"
    },
    {
     "name": "stdout",
     "output_type": "stream",
     "text": [
      "\n",
      "\n",
      "\n",
      "\n"
     ]
    }
   ],
   "source": [
    "# show the results\n",
    "for ode in odes:\n",
    "    display(ode)\n",
    "    print(3*\"\\n\")"
   ]
  },
  {
   "cell_type": "markdown",
   "metadata": {},
   "source": [
    "# Create a numeric ODE\n",
    "For further usage we take the numeric version of our ODEs.\n",
    "\n",
    "For that we have to spesify integration volumne as well as the Reynolds-number"
   ]
  },
  {
   "cell_type": "code",
   "execution_count": 18,
   "metadata": {},
   "outputs": [],
   "source": [
    "L_x = 4*pi\n",
    "L_z = 2*pi\n",
    "re = 250"
   ]
  },
  {
   "cell_type": "code",
   "execution_count": 19,
   "metadata": {},
   "outputs": [],
   "source": [
    "class BUILD_EQUATION:\n",
    "    \n",
    "    def __init__(self, expressions, re, L_x, L_z):\n",
    "        \n",
    "        odes = []\n",
    "        for index,exp in enumerate(expressions):\n",
    "            N_exp = N(exp.subs({a:2*pi/L_x, g: 2*pi/L_z, Re: re}))\n",
    "            f = lambdify(list_of_a,N_exp)\n",
    "            odes.append(f)\n",
    "            \n",
    "        self.odes = odes\n",
    "        self.result = np.zeros(9)\n",
    "        \n",
    "        \n",
    "    def evaluation(self,set_of_a, t):\n",
    "        \n",
    "        for index, ode in enumerate(self.odes):\n",
    "            \n",
    "            self.result[index] = ode(*set_of_a)\n",
    "            \n",
    "        return self.result\n",
    "\n",
    "\n",
    "equation_system = BUILD_EQUATION(odes,re,L_x,L_z)\n",
    "ode = equation_system.evaluation"
   ]
  },
  {
   "cell_type": "code",
   "execution_count": 20,
   "metadata": {},
   "outputs": [],
   "source": [
    "from scipy.integrate import odeint\n",
    "\n",
    "def get_IC_9MM():\n",
    "    \"\"\" get random inital condition \"close\" to the attractor \"\"\"    \n",
    "    a0 = np.random.random(9)-.5                     \n",
    "    a0 /= 2\n",
    "    return a0\n",
    "\n",
    "time_array = np.linspace(0,800,1000)\n",
    "solution = odeint(ode,get_IC_9MM(),time_array) "
   ]
  },
  {
   "cell_type": "code",
   "execution_count": 21,
   "metadata": {
    "scrolled": true
   },
   "outputs": [
    {
     "data": {
      "image/png": "[encoded data removed]",
      "text/plain": [
       "<matplotlib.figure.Figure at 0x7f3ae0047810>"
      ]
     },
     "metadata": {
      "needs_background": "light"
     },
     "output_type": "display_data"
    }
   ],
   "source": [
    "plt.figure(figsize=(15,7))\n",
    "plt.plot(solution)\n",
    "plt.grid()\n",
    "plt.ylabel(\"Amplitude\")\n",
    "plt.xlabel(\"Time\")\n",
    "plt.savefig(\"solution.png\",dpi=200)\n",
    "plt.show()"
   ]
  },
  {
   "cell_type": "code",
   "execution_count": null,
   "metadata": {},
   "outputs": [],
   "source": []
  }
 ],
 "metadata": {
  "kernelspec": {
   "display_name": "Python 2",
   "language": "python",
   "name": "python2"
  },
  "language_info": {
   "codemirror_mode": {
    "name": "ipython",
    "version": 2
   },
   "file_extension": ".py",
   "mimetype": "text/x-python",
   "name": "python",
   "nbconvert_exporter": "python",
   "pygments_lexer": "ipython2",
   "version": "2.7.15+"
  }
 },
 "nbformat": 4,
 "nbformat_minor": 4
}
